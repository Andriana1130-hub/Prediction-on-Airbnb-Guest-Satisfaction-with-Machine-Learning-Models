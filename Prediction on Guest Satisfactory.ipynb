{
 "cells": [
  {
   "cell_type": "markdown",
   "id": "6338c17a",
   "metadata": {},
   "source": [
    "Aim: To predict the actual scale of guest satisfactory based on a few factors such as type of airbnb or cleanliness of airbnb \n",
    "\n",
    "4 Machine Learning Models \n",
    "- Random Forest Regressor \n",
    "    - before normalization, after normalization, with gradient weight \n",
    "- K Nearest Neighbour \n",
    "    - before normalization, after normalization, with inverse distance\n",
    "- Stochastic Gradient Descent \n",
    "    - before hyperparameter tuning, after hyperparameter tuning\n",
    "- Linear Regression "
   ]
  },
  {
   "cell_type": "code",
   "execution_count": 50,
   "id": "9e5ee777",
   "metadata": {},
   "outputs": [],
   "source": [
    "import numpy as np\n",
    "import pandas as pd\n",
    "import seaborn as sb\n",
    "import statsmodels.api as sm\n",
    "import matplotlib.pyplot as plt\n",
    "from sklearn import preprocessing\n",
    "from sklearn import neighbors\n",
    "from sklearn.preprocessing import LabelEncoder\n",
    "from sklearn import metrics\n",
    "from sklearn.model_selection import cross_val_score\n",
    "from sklearn.ensemble import RandomForestRegressor\n",
    "from sklearn.model_selection import train_test_split\n",
    "from sklearn.metrics import mean_absolute_error\n",
    "from sklearn.metrics import classification_report\n",
    "from sklearn.metrics import mean_absolute_error\n",
    "from sklearn.metrics import mean_squared_error\n",
    "from sklearn.metrics import mean_squared_log_error\n",
    "from sklearn.model_selection import GridSearchCV\n",
    "from sklearn.preprocessing import StandardScaler\n",
    "from sklearn.pipeline import make_pipeline\n",
    "from sklearn.tree import DecisionTreeRegressor\n",
    "from sklearn.linear_model import LinearRegression\n",
    "from sklearn.linear_model import SGDRegressor\n",
    "from sklearn.model_selection import RandomizedSearchCV"
   ]
  },
  {
   "cell_type": "markdown",
   "id": "49a212aa",
   "metadata": {},
   "source": [
    "**Data preprocess**"
   ]
  },
  {
   "cell_type": "code",
   "execution_count": 26,
   "id": "f3a34e39",
   "metadata": {},
   "outputs": [],
   "source": [
    "# load data into pandas dataframe\n",
    "df=pd.read_csv('Airbnb.csv')"
   ]
  },
  {
   "cell_type": "code",
   "execution_count": 27,
   "id": "97f9cdd1",
   "metadata": {},
   "outputs": [],
   "source": [
    "#replace bracket and spacing to ease calculation \n",
    "df.columns = df.columns.str.lower()\n",
    "df.columns = df.columns.str.replace(' ', '_')\n",
    "df.columns = df.columns.str.replace('(', '')\n",
    "df.columns = df.columns.str.replace(')', '')"
   ]
  },
  {
   "cell_type": "code",
   "execution_count": 28,
   "id": "7e32007a",
   "metadata": {},
   "outputs": [
    {
     "data": {
      "text/html": [
       "<div>\n",
       "<style scoped>\n",
       "    .dataframe tbody tr th:only-of-type {\n",
       "        vertical-align: middle;\n",
       "    }\n",
       "\n",
       "    .dataframe tbody tr th {\n",
       "        vertical-align: top;\n",
       "    }\n",
       "\n",
       "    .dataframe thead th {\n",
       "        text-align: right;\n",
       "    }\n",
       "</style>\n",
       "<table border=\"1\" class=\"dataframe\">\n",
       "  <thead>\n",
       "    <tr style=\"text-align: right;\">\n",
       "      <th></th>\n",
       "      <th>city</th>\n",
       "      <th>price</th>\n",
       "      <th>day</th>\n",
       "      <th>room_type</th>\n",
       "      <th>shared_room</th>\n",
       "      <th>private_room</th>\n",
       "      <th>person_capacity</th>\n",
       "      <th>superhost</th>\n",
       "      <th>multiple_rooms</th>\n",
       "      <th>business</th>\n",
       "      <th>cleanliness_rating</th>\n",
       "      <th>guest_satisfaction</th>\n",
       "      <th>bedrooms</th>\n",
       "      <th>city_center_km</th>\n",
       "      <th>metro_distance_km</th>\n",
       "      <th>attraction_index</th>\n",
       "      <th>normalised_attraction_index</th>\n",
       "      <th>restraunt_index</th>\n",
       "      <th>normalised_restraunt_index</th>\n",
       "    </tr>\n",
       "  </thead>\n",
       "  <tbody>\n",
       "    <tr>\n",
       "      <th>0</th>\n",
       "      <td>Amsterdam</td>\n",
       "      <td>194.033698</td>\n",
       "      <td>Weekday</td>\n",
       "      <td>Private room</td>\n",
       "      <td>0</td>\n",
       "      <td>1</td>\n",
       "      <td>2.0</td>\n",
       "      <td>0</td>\n",
       "      <td>1</td>\n",
       "      <td>0</td>\n",
       "      <td>10.0</td>\n",
       "      <td>93.0</td>\n",
       "      <td>1</td>\n",
       "      <td>5.022964</td>\n",
       "      <td>2.539380</td>\n",
       "      <td>78.690379</td>\n",
       "      <td>4.166708</td>\n",
       "      <td>98.253896</td>\n",
       "      <td>6.846473</td>\n",
       "    </tr>\n",
       "    <tr>\n",
       "      <th>1</th>\n",
       "      <td>Amsterdam</td>\n",
       "      <td>344.245776</td>\n",
       "      <td>Weekday</td>\n",
       "      <td>Private room</td>\n",
       "      <td>0</td>\n",
       "      <td>1</td>\n",
       "      <td>4.0</td>\n",
       "      <td>0</td>\n",
       "      <td>0</td>\n",
       "      <td>0</td>\n",
       "      <td>8.0</td>\n",
       "      <td>85.0</td>\n",
       "      <td>1</td>\n",
       "      <td>0.488389</td>\n",
       "      <td>0.239404</td>\n",
       "      <td>631.176378</td>\n",
       "      <td>33.421209</td>\n",
       "      <td>837.280757</td>\n",
       "      <td>58.342928</td>\n",
       "    </tr>\n",
       "    <tr>\n",
       "      <th>2</th>\n",
       "      <td>Amsterdam</td>\n",
       "      <td>264.101422</td>\n",
       "      <td>Weekday</td>\n",
       "      <td>Private room</td>\n",
       "      <td>0</td>\n",
       "      <td>1</td>\n",
       "      <td>2.0</td>\n",
       "      <td>0</td>\n",
       "      <td>0</td>\n",
       "      <td>1</td>\n",
       "      <td>9.0</td>\n",
       "      <td>87.0</td>\n",
       "      <td>1</td>\n",
       "      <td>5.748312</td>\n",
       "      <td>3.651621</td>\n",
       "      <td>75.275877</td>\n",
       "      <td>3.985908</td>\n",
       "      <td>95.386955</td>\n",
       "      <td>6.646700</td>\n",
       "    </tr>\n",
       "    <tr>\n",
       "      <th>3</th>\n",
       "      <td>Amsterdam</td>\n",
       "      <td>433.529398</td>\n",
       "      <td>Weekday</td>\n",
       "      <td>Private room</td>\n",
       "      <td>0</td>\n",
       "      <td>1</td>\n",
       "      <td>4.0</td>\n",
       "      <td>0</td>\n",
       "      <td>0</td>\n",
       "      <td>1</td>\n",
       "      <td>9.0</td>\n",
       "      <td>90.0</td>\n",
       "      <td>2</td>\n",
       "      <td>0.384862</td>\n",
       "      <td>0.439876</td>\n",
       "      <td>493.272534</td>\n",
       "      <td>26.119108</td>\n",
       "      <td>875.033098</td>\n",
       "      <td>60.973565</td>\n",
       "    </tr>\n",
       "    <tr>\n",
       "      <th>4</th>\n",
       "      <td>Amsterdam</td>\n",
       "      <td>485.552926</td>\n",
       "      <td>Weekday</td>\n",
       "      <td>Private room</td>\n",
       "      <td>0</td>\n",
       "      <td>1</td>\n",
       "      <td>2.0</td>\n",
       "      <td>1</td>\n",
       "      <td>0</td>\n",
       "      <td>0</td>\n",
       "      <td>10.0</td>\n",
       "      <td>98.0</td>\n",
       "      <td>1</td>\n",
       "      <td>0.544738</td>\n",
       "      <td>0.318693</td>\n",
       "      <td>552.830324</td>\n",
       "      <td>29.272733</td>\n",
       "      <td>815.305740</td>\n",
       "      <td>56.811677</td>\n",
       "    </tr>\n",
       "  </tbody>\n",
       "</table>\n",
       "</div>"
      ],
      "text/plain": [
       "        city       price      day     room_type shared_room private_room  \\\n",
       "0  Amsterdam  194.033698  Weekday  Private room           0            1   \n",
       "1  Amsterdam  344.245776  Weekday  Private room           0            1   \n",
       "2  Amsterdam  264.101422  Weekday  Private room           0            1   \n",
       "3  Amsterdam  433.529398  Weekday  Private room           0            1   \n",
       "4  Amsterdam  485.552926  Weekday  Private room           0            1   \n",
       "\n",
       "   person_capacity superhost  multiple_rooms  business  cleanliness_rating  \\\n",
       "0              2.0         0               1         0                10.0   \n",
       "1              4.0         0               0         0                 8.0   \n",
       "2              2.0         0               0         1                 9.0   \n",
       "3              4.0         0               0         1                 9.0   \n",
       "4              2.0         1               0         0                10.0   \n",
       "\n",
       "   guest_satisfaction  bedrooms  city_center_km  metro_distance_km  \\\n",
       "0                93.0         1        5.022964           2.539380   \n",
       "1                85.0         1        0.488389           0.239404   \n",
       "2                87.0         1        5.748312           3.651621   \n",
       "3                90.0         2        0.384862           0.439876   \n",
       "4                98.0         1        0.544738           0.318693   \n",
       "\n",
       "   attraction_index  normalised_attraction_index  restraunt_index  \\\n",
       "0         78.690379                     4.166708        98.253896   \n",
       "1        631.176378                    33.421209       837.280757   \n",
       "2         75.275877                     3.985908        95.386955   \n",
       "3        493.272534                    26.119108       875.033098   \n",
       "4        552.830324                    29.272733       815.305740   \n",
       "\n",
       "   normalised_restraunt_index  \n",
       "0                    6.846473  \n",
       "1                   58.342928  \n",
       "2                    6.646700  \n",
       "3                   60.973565  \n",
       "4                   56.811677  "
      ]
     },
     "execution_count": 28,
     "metadata": {},
     "output_type": "execute_result"
    }
   ],
   "source": [
    "#convert boolean to integer\n",
    "df.shared_room = df.shared_room.replace({True: '1', False: '0'}) \n",
    "df.private_room = df.private_room.replace({True: '1', False: '0'}) \n",
    "df.superhost = df.superhost.replace({True: '1', False: '0'}) \n",
    "df.head()"
   ]
  },
  {
   "cell_type": "code",
   "execution_count": 29,
   "id": "6439af58",
   "metadata": {
    "scrolled": true
   },
   "outputs": [
    {
     "data": {
      "text/html": [
       "<div>\n",
       "<style scoped>\n",
       "    .dataframe tbody tr th:only-of-type {\n",
       "        vertical-align: middle;\n",
       "    }\n",
       "\n",
       "    .dataframe tbody tr th {\n",
       "        vertical-align: top;\n",
       "    }\n",
       "\n",
       "    .dataframe thead th {\n",
       "        text-align: right;\n",
       "    }\n",
       "</style>\n",
       "<table border=\"1\" class=\"dataframe\">\n",
       "  <thead>\n",
       "    <tr style=\"text-align: right;\">\n",
       "      <th></th>\n",
       "      <th>city</th>\n",
       "      <th>price</th>\n",
       "      <th>day</th>\n",
       "      <th>room_type</th>\n",
       "      <th>shared_room</th>\n",
       "      <th>private_room</th>\n",
       "      <th>person_capacity</th>\n",
       "      <th>superhost</th>\n",
       "      <th>multiple_rooms</th>\n",
       "      <th>business</th>\n",
       "      <th>cleanliness_rating</th>\n",
       "      <th>guest_satisfaction</th>\n",
       "      <th>bedrooms</th>\n",
       "      <th>city_center_km</th>\n",
       "      <th>metro_distance_km</th>\n",
       "      <th>attraction_index</th>\n",
       "      <th>normalised_attraction_index</th>\n",
       "      <th>restraunt_index</th>\n",
       "      <th>normalised_restraunt_index</th>\n",
       "    </tr>\n",
       "  </thead>\n",
       "  <tbody>\n",
       "    <tr>\n",
       "      <th>0</th>\n",
       "      <td>0</td>\n",
       "      <td>194.033698</td>\n",
       "      <td>0</td>\n",
       "      <td>1</td>\n",
       "      <td>0</td>\n",
       "      <td>1</td>\n",
       "      <td>2.0</td>\n",
       "      <td>0</td>\n",
       "      <td>1</td>\n",
       "      <td>0</td>\n",
       "      <td>10.0</td>\n",
       "      <td>93.0</td>\n",
       "      <td>1</td>\n",
       "      <td>5.022964</td>\n",
       "      <td>2.539380</td>\n",
       "      <td>78.690379</td>\n",
       "      <td>4.166708</td>\n",
       "      <td>98.253896</td>\n",
       "      <td>6.846473</td>\n",
       "    </tr>\n",
       "    <tr>\n",
       "      <th>1</th>\n",
       "      <td>0</td>\n",
       "      <td>344.245776</td>\n",
       "      <td>0</td>\n",
       "      <td>1</td>\n",
       "      <td>0</td>\n",
       "      <td>1</td>\n",
       "      <td>4.0</td>\n",
       "      <td>0</td>\n",
       "      <td>0</td>\n",
       "      <td>0</td>\n",
       "      <td>8.0</td>\n",
       "      <td>85.0</td>\n",
       "      <td>1</td>\n",
       "      <td>0.488389</td>\n",
       "      <td>0.239404</td>\n",
       "      <td>631.176378</td>\n",
       "      <td>33.421209</td>\n",
       "      <td>837.280757</td>\n",
       "      <td>58.342928</td>\n",
       "    </tr>\n",
       "    <tr>\n",
       "      <th>2</th>\n",
       "      <td>0</td>\n",
       "      <td>264.101422</td>\n",
       "      <td>0</td>\n",
       "      <td>1</td>\n",
       "      <td>0</td>\n",
       "      <td>1</td>\n",
       "      <td>2.0</td>\n",
       "      <td>0</td>\n",
       "      <td>0</td>\n",
       "      <td>1</td>\n",
       "      <td>9.0</td>\n",
       "      <td>87.0</td>\n",
       "      <td>1</td>\n",
       "      <td>5.748312</td>\n",
       "      <td>3.651621</td>\n",
       "      <td>75.275877</td>\n",
       "      <td>3.985908</td>\n",
       "      <td>95.386955</td>\n",
       "      <td>6.646700</td>\n",
       "    </tr>\n",
       "    <tr>\n",
       "      <th>3</th>\n",
       "      <td>0</td>\n",
       "      <td>433.529398</td>\n",
       "      <td>0</td>\n",
       "      <td>1</td>\n",
       "      <td>0</td>\n",
       "      <td>1</td>\n",
       "      <td>4.0</td>\n",
       "      <td>0</td>\n",
       "      <td>0</td>\n",
       "      <td>1</td>\n",
       "      <td>9.0</td>\n",
       "      <td>90.0</td>\n",
       "      <td>2</td>\n",
       "      <td>0.384862</td>\n",
       "      <td>0.439876</td>\n",
       "      <td>493.272534</td>\n",
       "      <td>26.119108</td>\n",
       "      <td>875.033098</td>\n",
       "      <td>60.973565</td>\n",
       "    </tr>\n",
       "    <tr>\n",
       "      <th>4</th>\n",
       "      <td>0</td>\n",
       "      <td>485.552926</td>\n",
       "      <td>0</td>\n",
       "      <td>1</td>\n",
       "      <td>0</td>\n",
       "      <td>1</td>\n",
       "      <td>2.0</td>\n",
       "      <td>1</td>\n",
       "      <td>0</td>\n",
       "      <td>0</td>\n",
       "      <td>10.0</td>\n",
       "      <td>98.0</td>\n",
       "      <td>1</td>\n",
       "      <td>0.544738</td>\n",
       "      <td>0.318693</td>\n",
       "      <td>552.830324</td>\n",
       "      <td>29.272733</td>\n",
       "      <td>815.305740</td>\n",
       "      <td>56.811677</td>\n",
       "    </tr>\n",
       "  </tbody>\n",
       "</table>\n",
       "</div>"
      ],
      "text/plain": [
       "   city       price  day  room_type shared_room private_room  person_capacity  \\\n",
       "0     0  194.033698    0          1           0            1              2.0   \n",
       "1     0  344.245776    0          1           0            1              4.0   \n",
       "2     0  264.101422    0          1           0            1              2.0   \n",
       "3     0  433.529398    0          1           0            1              4.0   \n",
       "4     0  485.552926    0          1           0            1              2.0   \n",
       "\n",
       "  superhost  multiple_rooms  business  cleanliness_rating  guest_satisfaction  \\\n",
       "0         0               1         0                10.0                93.0   \n",
       "1         0               0         0                 8.0                85.0   \n",
       "2         0               0         1                 9.0                87.0   \n",
       "3         0               0         1                 9.0                90.0   \n",
       "4         1               0         0                10.0                98.0   \n",
       "\n",
       "   bedrooms  city_center_km  metro_distance_km  attraction_index  \\\n",
       "0         1        5.022964           2.539380         78.690379   \n",
       "1         1        0.488389           0.239404        631.176378   \n",
       "2         1        5.748312           3.651621         75.275877   \n",
       "3         2        0.384862           0.439876        493.272534   \n",
       "4         1        0.544738           0.318693        552.830324   \n",
       "\n",
       "   normalised_attraction_index  restraunt_index  normalised_restraunt_index  \n",
       "0                     4.166708        98.253896                    6.846473  \n",
       "1                    33.421209       837.280757                   58.342928  \n",
       "2                     3.985908        95.386955                    6.646700  \n",
       "3                    26.119108       875.033098                   60.973565  \n",
       "4                    29.272733       815.305740                   56.811677  "
      ]
     },
     "execution_count": 29,
     "metadata": {},
     "output_type": "execute_result"
    }
   ],
   "source": [
    "#convert nominal to numerical \n",
    "label = LabelEncoder()\n",
    "\n",
    "label.fit(df.city) \n",
    "df.city = label.transform(df.city)\n",
    "\n",
    "label.fit(df.day) \n",
    "df.day = label.transform(df.day)\n",
    "\n",
    "label.fit(df.room_type) \n",
    "df.room_type = label.transform(df.room_type)\n",
    "\n",
    "df.head()"
   ]
  },
  {
   "cell_type": "markdown",
   "id": "f2a43e96",
   "metadata": {},
   "source": [
    "**Random Tree Regressor before normalization**"
   ]
  },
  {
   "cell_type": "code",
   "execution_count": 30,
   "id": "7fd34f35",
   "metadata": {},
   "outputs": [],
   "source": [
    "#split data\n",
    "x=df.drop(['guest_satisfaction'], axis=1).values\n",
    "y=df['guest_satisfaction'].values"
   ]
  },
  {
   "cell_type": "code",
   "execution_count": 31,
   "id": "965a08f9",
   "metadata": {},
   "outputs": [],
   "source": [
    "#split to train test \n",
    "x_train, x_test, y_train, y_test = train_test_split(x, y, test_size=0.3, random_state=42)"
   ]
  },
  {
   "cell_type": "code",
   "execution_count": 32,
   "id": "de1efcde",
   "metadata": {},
   "outputs": [
    {
     "data": {
      "text/plain": [
       "RandomForestRegressor(n_estimators=1000)"
      ]
     },
     "execution_count": 32,
     "metadata": {},
     "output_type": "execute_result"
    }
   ],
   "source": [
    "randomforest=RandomForestRegressor(n_estimators=1000)\n",
    "randomforest.fit(x_train, y_train.ravel())"
   ]
  },
  {
   "cell_type": "code",
   "execution_count": 33,
   "id": "caa62970",
   "metadata": {},
   "outputs": [],
   "source": [
    "#define mae, mse, rmse\n",
    "y_pred=randomforest.predict(x_test)\n",
    "\n",
    "mae = metrics.mean_absolute_error(y_test, y_pred)\n",
    "mse = metrics.mean_squared_error(y_test, y_pred)\n",
    "rmse = np.sqrt(metrics.mean_squared_error(y_test, y_pred))"
   ]
  },
  {
   "cell_type": "code",
   "execution_count": 34,
   "id": "0de318c9",
   "metadata": {},
   "outputs": [
    {
     "name": "stdout",
     "output_type": "stream",
     "text": [
      "Mean Absolute Error:  2.7678977227327213\n",
      "Mean Squared Error:  19.45842494063124\n",
      "Root Mean Squared Error:  4.411170472859923\n"
     ]
    }
   ],
   "source": [
    "#print result\n",
    "print(\"Mean Absolute Error: \", mae)\n",
    "print(\"Mean Squared Error: \", mse)\n",
    "print(\"Root Mean Squared Error: \", rmse)"
   ]
  },
  {
   "cell_type": "markdown",
   "id": "81478e65",
   "metadata": {},
   "source": [
    "**Random Tree Regressor after normalization**"
   ]
  },
  {
   "cell_type": "code",
   "execution_count": 35,
   "id": "866748ee",
   "metadata": {},
   "outputs": [],
   "source": [
    "#split data\n",
    "x=df.drop(['guest_satisfaction'], axis=1).values\n",
    "y=df['guest_satisfaction'].values"
   ]
  },
  {
   "cell_type": "code",
   "execution_count": 36,
   "id": "b9344f35",
   "metadata": {},
   "outputs": [],
   "source": [
    "#normalize\n",
    "scaler=StandardScaler()\n",
    "x_scaled=scaler.fit_transform(x)\n",
    "y_df=pd.DataFrame(y, columns=['guest_satisfactory'])"
   ]
  },
  {
   "cell_type": "code",
   "execution_count": 37,
   "id": "62125e52",
   "metadata": {},
   "outputs": [],
   "source": [
    "#split to train test \n",
    "x_train, x_test, y_train, y_test = train_test_split(x_scaled, y, test_size=0.3, random_state=42, shuffle=True)"
   ]
  },
  {
   "cell_type": "code",
   "execution_count": 38,
   "id": "6d4ea4c8",
   "metadata": {},
   "outputs": [
    {
     "data": {
      "text/plain": [
       "RandomForestRegressor()"
      ]
     },
     "execution_count": 38,
     "metadata": {},
     "output_type": "execute_result"
    }
   ],
   "source": [
    "randomforest=RandomForestRegressor()\n",
    "randomforest.fit(x_train, y_train.ravel())"
   ]
  },
  {
   "cell_type": "code",
   "execution_count": 39,
   "id": "c7927e57",
   "metadata": {},
   "outputs": [],
   "source": [
    "#define mae, mse, rmse\n",
    "y_pred=randomforest.predict(x_test)\n",
    "\n",
    "mae = metrics.mean_absolute_error(y_test, y_pred)\n",
    "mse = metrics.mean_squared_error(y_test, y_pred)\n",
    "rmse = np.sqrt(metrics.mean_squared_error(y_test, y_pred))"
   ]
  },
  {
   "cell_type": "code",
   "execution_count": 40,
   "id": "c8cf5cce",
   "metadata": {},
   "outputs": [
    {
     "name": "stdout",
     "output_type": "stream",
     "text": [
      "Mean Absolute Error:  2.790313224131043\n",
      "Mean Squared Error:  19.81028133439872\n",
      "Root Mean Squared Error:  4.450874221363565\n"
     ]
    }
   ],
   "source": [
    "#print result\n",
    "print(\"Mean Absolute Error: \", mae)\n",
    "print(\"Mean Squared Error: \", mse)\n",
    "print(\"Root Mean Squared Error: \", rmse)"
   ]
  },
  {
   "cell_type": "markdown",
   "id": "03a49d37",
   "metadata": {},
   "source": [
    "**Random Tree Regressor model that implemented gradient weight in it**"
   ]
  },
  {
   "cell_type": "code",
   "execution_count": 41,
   "id": "39ee70dd",
   "metadata": {},
   "outputs": [],
   "source": [
    "class enhance_random_tree_1:\n",
    "    def __init__(self, n_estimators=10000, max_depth=10, learning_rate=0.01):\n",
    "        self.n_estimators = n_estimators\n",
    "        self.max_depth = max_depth\n",
    "        self.learning_rate = learning_rate\n",
    "        self.estimators = []\n",
    "        self.weights = []\n",
    "        \n",
    "    \n",
    "    def fit(self, x_train, y_train):\n",
    "        num_samples = x_train.shape[0]\n",
    "        prediction = np.full(num_samples, np.mean(y_train))\n",
    "\n",
    "        for _ in range(self.n_estimators):\n",
    "            residuals = y_train - prediction\n",
    "            estimator = DecisionTreeRegressor(max_depth=self.max_depth)\n",
    "            estimator.fit(x_train, residuals)\n",
    "            self.estimators.append(estimator)\n",
    "\n",
    "            gradients = np.sign(residuals)\n",
    "\n",
    "            prediction += self.learning_rate * estimator.predict(x_train)\n",
    "            self.weights.append(self.learning_rate)\n",
    "\n",
    "    def predict(self, x_test):\n",
    "        num_samples = x_test.shape[0]\n",
    "        predictions = np.zeros(num_samples)\n",
    "\n",
    "        for estimator, weight in zip(self.estimators, self.weights):\n",
    "            predictions += weight * estimator.predict(x_test)\n",
    "\n",
    "        return predictions\n"
   ]
  },
  {
   "cell_type": "code",
   "execution_count": 42,
   "id": "469f5611",
   "metadata": {},
   "outputs": [],
   "source": [
    "enhance1 = enhance_random_tree_1(n_estimators=10000, max_depth=10, learning_rate=0.01)\n",
    "enhance1.fit(x_train, y_train.ravel())"
   ]
  },
  {
   "cell_type": "code",
   "execution_count": 43,
   "id": "902258bd",
   "metadata": {},
   "outputs": [],
   "source": [
    "y_pred = enhance1.predict(x_test)\n",
    "\n",
    "mae = metrics.mean_absolute_error(y_test, y_pred)\n",
    "mse = metrics.mean_squared_error(y_test, y_pred)\n",
    "rmse = np.sqrt(metrics.mean_squared_error(y_test, y_pred))"
   ]
  },
  {
   "cell_type": "code",
   "execution_count": 44,
   "id": "30301a9c",
   "metadata": {},
   "outputs": [
    {
     "name": "stdout",
     "output_type": "stream",
     "text": [
      "Mean Absolute Error:  93.12579011043591\n",
      "Mean Squared Error:  8690.617201417008\n",
      "Root Mean Squared Error:  93.22347988257576\n"
     ]
    }
   ],
   "source": [
    "#print result\n",
    "print(\"Mean Absolute Error: \", mae)\n",
    "print(\"Mean Squared Error: \", mse)\n",
    "print(\"Root Mean Squared Error: \", rmse)"
   ]
  },
  {
   "cell_type": "markdown",
   "id": "ce6acd8c",
   "metadata": {},
   "source": [
    "**KNN without normalization**"
   ]
  },
  {
   "cell_type": "code",
   "execution_count": 45,
   "id": "6a4d59e5",
   "metadata": {},
   "outputs": [],
   "source": [
    "#split data\n",
    "x=df.drop(['guest_satisfaction'], axis=1).values\n",
    "y=df['guest_satisfaction'].values"
   ]
  },
  {
   "cell_type": "code",
   "execution_count": 46,
   "id": "922d5cf5",
   "metadata": {},
   "outputs": [],
   "source": [
    "#split to train test \n",
    "x_train, x_test, y_train, y_test = train_test_split(x, y, test_size=0.3, random_state=42)"
   ]
  },
  {
   "cell_type": "code",
   "execution_count": 52,
   "id": "ddbb92dc",
   "metadata": {},
   "outputs": [
    {
     "name": "stdout",
     "output_type": "stream",
     "text": [
      "RMSE value for k=  1 is: 0.1127620289159227\n",
      "RMSE value for k=  2 is: 0.11044237880260253\n",
      "RMSE value for k=  3 is: 0.1113021194961765\n",
      "RMSE value for k=  4 is: 0.11133354921220939\n",
      "RMSE value for k=  5 is: 0.11131527582940978\n",
      "RMSE value for k=  6 is: 0.11147942517341508\n",
      "RMSE value for k=  7 is: 0.11164047233148039\n",
      "RMSE value for k=  8 is: 0.11165731812476443\n",
      "RMSE value for k=  9 is: 0.11171451648271927\n",
      "RMSE value for k=  10 is: 0.11174176371082513\n",
      "RMSE value for k=  11 is: 0.11189960321272573\n",
      "RMSE value for k=  12 is: 0.11191053130590094\n",
      "RMSE value for k=  13 is: 0.11197871620516961\n",
      "RMSE value for k=  14 is: 0.11200551190172199\n",
      "RMSE value for k=  15 is: 0.11213012049121356\n",
      "RMSE value for k=  16 is: 0.11219583686605951\n",
      "RMSE value for k=  17 is: 0.11218459969937578\n",
      "RMSE value for k=  18 is: 0.11227194761725158\n",
      "RMSE value for k=  19 is: 0.1123507399128917\n",
      "RMSE value for k=  20 is: 0.11228188912326571\n",
      "Best RMSE: 0.11044237880260253, Best k: 2\n"
     ]
    }
   ],
   "source": [
    "rmse_val=[]\n",
    "best_rmse=1.0\n",
    "\n",
    "for k in range(20):\n",
    "    k = k+1\n",
    "    knn = neighbors.KNeighborsRegressor(n_neighbors = k)\n",
    "\n",
    "    knn.fit(x_train, y_train) \n",
    "    y_pred = knn.predict(x_test)\n",
    "    rmse = np.sqrt(mean_squared_log_error(y_test,y_pred))\n",
    "    if (rmse < best_rmse):\n",
    "        best_rmse = rmse\n",
    "        best_k = k\n",
    "    rmse_val.append(rmse)\n",
    "    print('RMSE value for k= ' , k , 'is:', rmse)\n",
    "\n",
    "print(f\"Best RMSE: {best_rmse}, Best k: {best_k}\")"
   ]
  },
  {
   "cell_type": "code",
   "execution_count": 53,
   "id": "1e0206de",
   "metadata": {},
   "outputs": [
    {
     "data": {
      "text/plain": [
       "{'n_neighbors': 10}"
      ]
     },
     "execution_count": 53,
     "metadata": {},
     "output_type": "execute_result"
    }
   ],
   "source": [
    "params = {'n_neighbors':[2,3,4,5,6,7,8,10]}\n",
    "\n",
    "knn = neighbors.KNeighborsRegressor()\n",
    "\n",
    "model = GridSearchCV(knn, params, cv=5)\n",
    "model.fit(x_train,y_train)\n",
    "model.best_params_"
   ]
  },
  {
   "cell_type": "code",
   "execution_count": 54,
   "id": "e48788e7",
   "metadata": {},
   "outputs": [
    {
     "data": {
      "text/plain": [
       "0.0006874499908993137"
      ]
     },
     "execution_count": 54,
     "metadata": {},
     "output_type": "execute_result"
    }
   ],
   "source": [
    "knn = neighbors.KNeighborsRegressor(n_neighbors = best_k)\n",
    "\n",
    "knn.fit(x_train,y_train)\n",
    "y_pred = knn.predict(x_test)\n",
    "knn.score(x_test, y_test)"
   ]
  },
  {
   "cell_type": "code",
   "execution_count": 55,
   "id": "68e3fd47",
   "metadata": {},
   "outputs": [
    {
     "name": "stdout",
     "output_type": "stream",
     "text": [
      "Mean Absolute Error:  5.210906911705953\n",
      "Mean Squared Error:  66.76913703555734\n",
      "Root Mean Squared Error:  8.171238402810026\n"
     ]
    }
   ],
   "source": [
    "mae = metrics.mean_absolute_error(y_test, y_pred)\n",
    "mse = metrics.mean_squared_error(y_test, y_pred)\n",
    "rmse = np.sqrt(metrics.mean_squared_error(y_test, y_pred))\n",
    "\n",
    "#print result\n",
    "print(\"Mean Absolute Error: \", mae)\n",
    "print(\"Mean Squared Error: \", mse)\n",
    "print(\"Root Mean Squared Error: \", rmse)"
   ]
  },
  {
   "cell_type": "markdown",
   "id": "fa81a7f0",
   "metadata": {},
   "source": [
    "**KNN with normalization**"
   ]
  },
  {
   "cell_type": "code",
   "execution_count": 56,
   "id": "7c130751",
   "metadata": {},
   "outputs": [],
   "source": [
    "#split to train test \n",
    "x_train, x_test, y_train, y_test = train_test_split(x_scaled, y, test_size=0.3, random_state=42, shuffle=True)"
   ]
  },
  {
   "cell_type": "code",
   "execution_count": 57,
   "id": "eb8da905",
   "metadata": {},
   "outputs": [
    {
     "name": "stdout",
     "output_type": "stream",
     "text": [
      "RMSE value for k=  1 is: 0.10074852197114793\n",
      "RMSE value for k=  2 is: 0.08488709656164858\n",
      "RMSE value for k=  3 is: 0.08074867260029865\n",
      "RMSE value for k=  4 is: 0.07965725396324481\n",
      "RMSE value for k=  5 is: 0.07886735305579098\n",
      "RMSE value for k=  6 is: 0.07861246305284834\n",
      "RMSE value for k=  7 is: 0.07796484528554296\n",
      "RMSE value for k=  8 is: 0.07781571633898067\n",
      "RMSE value for k=  9 is: 0.07817736300048127\n",
      "RMSE value for k=  10 is: 0.07797374849228245\n",
      "RMSE value for k=  11 is: 0.07827342987901233\n",
      "RMSE value for k=  12 is: 0.0784016468944371\n",
      "RMSE value for k=  13 is: 0.07825543831176916\n",
      "RMSE value for k=  14 is: 0.07837750725601465\n",
      "RMSE value for k=  15 is: 0.07844054894930633\n",
      "RMSE value for k=  16 is: 0.07850927574631439\n",
      "RMSE value for k=  17 is: 0.07849538508926159\n",
      "RMSE value for k=  18 is: 0.0785122042495735\n",
      "RMSE value for k=  19 is: 0.07866874788802601\n",
      "RMSE value for k=  20 is: 0.07862415978052391\n",
      "Best RMSE: 0.07781571633898067, Best k: 8\n"
     ]
    }
   ],
   "source": [
    "rmse_val=[]\n",
    "best_rmse=1.0\n",
    "\n",
    "for k in range(20):\n",
    "    k = k+1\n",
    "    knn = neighbors.KNeighborsRegressor(n_neighbors = k)\n",
    "\n",
    "    knn.fit(x_train, y_train) \n",
    "    y_pred = knn.predict(x_test)\n",
    "    rmse = np.sqrt(mean_squared_log_error(y_test,y_pred))\n",
    "    if (rmse < best_rmse):\n",
    "        best_rmse = rmse\n",
    "        best_k = k\n",
    "    rmse_val.append(rmse)\n",
    "    print('RMSE value for k= ' , k , 'is:', rmse)\n",
    "\n",
    "print(f\"Best RMSE: {best_rmse}, Best k: {best_k}\")"
   ]
  },
  {
   "cell_type": "code",
   "execution_count": 58,
   "id": "49a54af4",
   "metadata": {},
   "outputs": [
    {
     "data": {
      "text/plain": [
       "{'n_neighbors': 10}"
      ]
     },
     "execution_count": 58,
     "metadata": {},
     "output_type": "execute_result"
    }
   ],
   "source": [
    "#Hyperparameter tuning using Grid Search\n",
    "params = {'n_neighbors':[2,3,4,5,6,7,8,9,10]}\n",
    "\n",
    "knn = neighbors.KNeighborsRegressor()\n",
    "\n",
    "model = GridSearchCV(knn, params, cv=5)\n",
    "model.fit(x_train,y_train)\n",
    "model.best_params_"
   ]
  },
  {
   "cell_type": "code",
   "execution_count": 59,
   "id": "07c3be5a",
   "metadata": {},
   "outputs": [
    {
     "data": {
      "text/plain": [
       "0.5024112485628067"
      ]
     },
     "execution_count": 59,
     "metadata": {},
     "output_type": "execute_result"
    }
   ],
   "source": [
    "knn = neighbors.KNeighborsRegressor(n_neighbors = best_k)\n",
    "\n",
    "knn.fit(x_train,y_train)\n",
    "y_pred = knn.predict(x_test)\n",
    "knn.score(x_test, y_test)"
   ]
  },
  {
   "cell_type": "code",
   "execution_count": 60,
   "id": "113b818e",
   "metadata": {},
   "outputs": [
    {
     "name": "stdout",
     "output_type": "stream",
     "text": [
      "Mean Absolute Error:  3.80331602077507\n",
      "Mean Squared Error:  33.246426787854574\n",
      "Root Mean Squared Error:  5.765971452223344\n"
     ]
    }
   ],
   "source": [
    "mae = metrics.mean_absolute_error(y_test, y_pred)\n",
    "mse = metrics.mean_squared_error(y_test, y_pred)\n",
    "rmse = np.sqrt(metrics.mean_squared_error(y_test, y_pred))\n",
    "\n",
    "#print result\n",
    "print(\"Mean Absolute Error: \", mae)\n",
    "print(\"Mean Squared Error: \", mse)\n",
    "print(\"Root Mean Squared Error: \", rmse)\n"
   ]
  },
  {
   "cell_type": "markdown",
   "id": "9a902dd1",
   "metadata": {},
   "source": [
    "**KNN using inverse distance**"
   ]
  },
  {
   "cell_type": "code",
   "execution_count": 61,
   "id": "57f22d99",
   "metadata": {},
   "outputs": [
    {
     "name": "stdout",
     "output_type": "stream",
     "text": [
      "RMSE value for k=  1 is: 0.10074852197114793\n",
      "RMSE value for k=  2 is: 0.08488709656164858\n",
      "RMSE value for k=  3 is: 0.08074867260029865\n",
      "RMSE value for k=  4 is: 0.07965725396324481\n",
      "RMSE value for k=  5 is: 0.07886735305579098\n",
      "RMSE value for k=  6 is: 0.07861246305284834\n",
      "RMSE value for k=  7 is: 0.07796484528554296\n",
      "RMSE value for k=  8 is: 0.07781571633898067\n",
      "RMSE value for k=  9 is: 0.07817736300048127\n",
      "RMSE value for k=  10 is: 0.07797374849228245\n",
      "RMSE value for k=  11 is: 0.07827342987901233\n",
      "RMSE value for k=  12 is: 0.0784016468944371\n",
      "RMSE value for k=  13 is: 0.07825543831176916\n",
      "RMSE value for k=  14 is: 0.07837750725601465\n",
      "RMSE value for k=  15 is: 0.07844054894930633\n",
      "RMSE value for k=  16 is: 0.07850927574631439\n",
      "RMSE value for k=  17 is: 0.07849538508926159\n",
      "RMSE value for k=  18 is: 0.0785122042495735\n",
      "RMSE value for k=  19 is: 0.07866874788802601\n",
      "RMSE value for k=  20 is: 0.07862415978052391\n",
      "Best RMSE: 0.07781571633898067, Best k: 8\n"
     ]
    }
   ],
   "source": [
    "rmse_val=[]\n",
    "best_rmse=1.0\n",
    "\n",
    "for k in range(20):\n",
    "    k = k+1\n",
    "    knn = neighbors.KNeighborsRegressor(n_neighbors = k)\n",
    "\n",
    "    knn.fit(x_train, y_train) \n",
    "    y_pred = knn.predict(x_test)\n",
    "    rmse = np.sqrt(mean_squared_log_error(y_test,y_pred))\n",
    "    if (rmse < best_rmse):\n",
    "        best_rmse = rmse\n",
    "        best_k = k\n",
    "    rmse_val.append(rmse)\n",
    "    print('RMSE value for k= ' , k , 'is:', rmse)\n",
    "\n",
    "print(f\"Best RMSE: {best_rmse}, Best k: {best_k}\")\n"
   ]
  },
  {
   "cell_type": "code",
   "execution_count": 62,
   "id": "8544049e",
   "metadata": {},
   "outputs": [],
   "source": [
    "knn = neighbors.KNeighborsRegressor(n_neighbors = best_k,weights='distance')\n",
    "\n",
    "knn.fit(x_train,y_train)\n",
    "y_pred = knn.predict(x_test)"
   ]
  },
  {
   "cell_type": "code",
   "execution_count": 63,
   "id": "56b27876",
   "metadata": {},
   "outputs": [
    {
     "name": "stdout",
     "output_type": "stream",
     "text": [
      "Mean Absolute Error:  3.7815146672926705\n",
      "Mean Squared Error:  33.26178556345874\n",
      "Root Mean Squared Error:  5.767303144751343\n"
     ]
    }
   ],
   "source": [
    "mae = metrics.mean_absolute_error(y_test, y_pred)\n",
    "mse = metrics.mean_squared_error(y_test, y_pred)\n",
    "rmse = np.sqrt(metrics.mean_squared_error(y_test, y_pred))\n",
    "\n",
    "#print result\n",
    "print(\"Mean Absolute Error: \", mae)\n",
    "print(\"Mean Squared Error: \", mse)\n",
    "print(\"Root Mean Squared Error: \", rmse)"
   ]
  },
  {
   "cell_type": "markdown",
   "id": "da4bd39e",
   "metadata": {},
   "source": [
    "**Stochastic Gradient Descent before hyperparameter tuning**"
   ]
  },
  {
   "cell_type": "code",
   "execution_count": 64,
   "id": "7c47eef2",
   "metadata": {},
   "outputs": [],
   "source": [
    "SGD=SGDRegressor()\n",
    "SGD.fit(x_train, y_train.ravel())\n",
    "y_pred=SGD.predict(x_test)"
   ]
  },
  {
   "cell_type": "code",
   "execution_count": 65,
   "id": "ec8e5b6b",
   "metadata": {},
   "outputs": [
    {
     "name": "stdout",
     "output_type": "stream",
     "text": [
      "Mean Absolute Error:  3.695491362537715\n",
      "Mean Squared Error:  31.636482766117503\n",
      "Root Mean Squared Error:  5.624631789381195\n"
     ]
    }
   ],
   "source": [
    "mae = metrics.mean_absolute_error(y_test, y_pred)\n",
    "mse = metrics.mean_squared_error(y_test, y_pred)\n",
    "rmse = np.sqrt(metrics.mean_squared_error(y_test, y_pred))\n",
    "\n",
    "#print result\n",
    "print(\"Mean Absolute Error: \", mae)\n",
    "print(\"Mean Squared Error: \", mse)\n",
    "print(\"Root Mean Squared Error: \", rmse)"
   ]
  },
  {
   "cell_type": "markdown",
   "id": "fbdbcfac",
   "metadata": {},
   "source": [
    "**Stochastic Gradient Descent after hyperparameter tuning**"
   ]
  },
  {
   "cell_type": "code",
   "execution_count": 66,
   "id": "94d08cd9",
   "metadata": {},
   "outputs": [],
   "source": [
    "# report function to tell results of the hyperparamter tuning\n",
    "def report(results, n_top=3):\n",
    "    for i in range(1, n_top + 1):\n",
    "        candidates = np.flatnonzero(results[\"rank_test_score\"] == i)\n",
    "        for candidate in candidates:\n",
    "            print(\"Rank: {0}\".format(i))\n",
    "            print(\n",
    "                \"Mean validation score: {0:.3f} \".format(results[\"mean_test_score\"][candidate])\n",
    "            )\n",
    "            print(\"Parameters: {0}\".format(results[\"params\"][candidate]))\n",
    "            print(\"\")"
   ]
  },
  {
   "cell_type": "code",
   "execution_count": 69,
   "id": "6c63e754",
   "metadata": {},
   "outputs": [
    {
     "name": "stdout",
     "output_type": "stream",
     "text": [
      "Rank: 1\n",
      "Mean validation score: 0.500 \n",
      "Parameters: {'penalty': 'l1', 'n_iter_no_change': 300, 'max_iter': 30000, 'eta0': 0.0001}\n",
      "\n",
      "Rank: 2\n",
      "Mean validation score: 0.500 \n",
      "Parameters: {'penalty': 'l2', 'n_iter_no_change': 250, 'max_iter': 20000, 'eta0': 0.001}\n",
      "\n",
      "Rank: 3\n",
      "Mean validation score: 0.500 \n",
      "Parameters: {'penalty': 'l1', 'n_iter_no_change': 100, 'max_iter': 30000, 'eta0': 0.001}\n",
      "\n"
     ]
    }
   ],
   "source": [
    "param_grid = {\n",
    "    'penalty': ['l1', 'l2', 'elasticnet',None],\n",
    "    'max_iter' :[20000, 30000, 40000],\n",
    "    'eta0' :[0.001, 0.0001, 0.00001, 0.000001],\n",
    "    'n_iter_no_change':[100, 200, 250, 300]\n",
    "}\n",
    "\n",
    "SGD2=SGDRegressor(random_state=42)\n",
    "random_SGD=RandomizedSearchCV(SGD2,param_grid, n_iter=10, cv=5, random_state=42)\n",
    "random_SGD.fit(x_train, y_train.ravel())\n",
    "\n",
    "report(random_SGD.cv_results_)"
   ]
  },
  {
   "cell_type": "code",
   "execution_count": 73,
   "id": "1cfc391d",
   "metadata": {},
   "outputs": [],
   "source": [
    "SGD_best=SGDRegressor(penalty='L1', n_iter_no_change=300, eta0=0.0001, max_iter=30000)\n",
    "SGD_best.fit(x_train, y_train)\n",
    "SGD_best_pred=SGD_best.predict(x_test)"
   ]
  },
  {
   "cell_type": "code",
   "execution_count": 74,
   "id": "ce357b44",
   "metadata": {},
   "outputs": [
    {
     "name": "stdout",
     "output_type": "stream",
     "text": [
      "Mean Absolute Error:  3.6660355275499583\n",
      "Mean Squared Error:  31.606209317098102\n",
      "Root Mean Squared Error:  5.621939995864248\n"
     ]
    }
   ],
   "source": [
    "mae = metrics.mean_absolute_error(y_test, SGD_best_pred)\n",
    "mse = metrics.mean_squared_error(y_test, SGD_best_pred)\n",
    "rmse = np.sqrt(metrics.mean_squared_error(y_test, SGD_best_pred))\n",
    "\n",
    "#print result\n",
    "print(\"Mean Absolute Error: \", mae)\n",
    "print(\"Mean Squared Error: \", mse)\n",
    "print(\"Root Mean Squared Error: \", rmse)"
   ]
  },
  {
   "cell_type": "markdown",
   "id": "f18268b1",
   "metadata": {},
   "source": [
    "**Linear Regression**"
   ]
  },
  {
   "cell_type": "code",
   "execution_count": 75,
   "id": "4f6a785d",
   "metadata": {},
   "outputs": [],
   "source": [
    "linreg=LinearRegression()\n",
    "\n",
    "linreg.fit(x_train, y_train) \n",
    "linreg_pred = linreg.predict(x_test)"
   ]
  },
  {
   "cell_type": "code",
   "execution_count": 76,
   "id": "e345f63a",
   "metadata": {},
   "outputs": [
    {
     "name": "stdout",
     "output_type": "stream",
     "text": [
      "Mean Absolute Error:  3.695491362537715\n",
      "Mean Squared Error:  31.636482766117503\n",
      "Root Mean Squared Error:  5.624631789381195\n"
     ]
    }
   ],
   "source": [
    "mae = metrics.mean_absolute_error(y_test, y_pred)\n",
    "mse = metrics.mean_squared_error(y_test, y_pred)\n",
    "rmse = np.sqrt(metrics.mean_squared_error(y_test, y_pred))\n",
    "\n",
    "#print result\n",
    "print(\"Mean Absolute Error: \", mae)\n",
    "print(\"Mean Squared Error: \", mse)\n",
    "print(\"Root Mean Squared Error: \", rmse)"
   ]
  },
  {
   "cell_type": "code",
   "execution_count": null,
   "id": "eadbf7c3",
   "metadata": {},
   "outputs": [],
   "source": []
  },
  {
   "cell_type": "code",
   "execution_count": null,
   "id": "ae77926e",
   "metadata": {},
   "outputs": [],
   "source": []
  },
  {
   "cell_type": "code",
   "execution_count": null,
   "id": "e604bf64",
   "metadata": {},
   "outputs": [],
   "source": []
  },
  {
   "cell_type": "code",
   "execution_count": null,
   "id": "8a9f607e",
   "metadata": {},
   "outputs": [],
   "source": [
    "下"
   ]
  }
 ],
 "metadata": {
  "kernelspec": {
   "display_name": "Python 3",
   "language": "python",
   "name": "python3"
  },
  "language_info": {
   "codemirror_mode": {
    "name": "ipython",
    "version": 3
   },
   "file_extension": ".py",
   "mimetype": "text/x-python",
   "name": "python",
   "nbconvert_exporter": "python",
   "pygments_lexer": "ipython3",
   "version": "3.6.8"
  }
 },
 "nbformat": 4,
 "nbformat_minor": 5
}
